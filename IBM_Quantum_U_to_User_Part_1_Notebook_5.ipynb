{
  "nbformat": 4,
  "nbformat_minor": 0,
  "metadata": {
    "colab": {
      "provenance": [],
      "gpuType": "T4"
    },
    "kernelspec": {
      "name": "python3",
      "display_name": "Python 3"
    },
    "language_info": {
      "name": "python"
    },
    "accelerator": "GPU"
  },
  "cells": [
    {
      "cell_type": "markdown",
      "source": [
        "# IBM Quantum Campus Education U-to-User Series\n",
        "## Part 1: A Delve into the Quantum Realm\n",
        "\n",
        "Creator:\n",
        "- Rishwi Thimmaraju\n",
        "\n",
        "Editors:\n",
        "- Brian Ingmanson\n",
        "- James Weaver\n",
        "- Katie McCormik\n",
        "\n",
        "## Notebook 5\n",
        "- Eigen Values and Eigen Vectors\n",
        "- Expectation Value and Observables\n",
        "- Sampler Vs Estimator\n",
        "- Tasks\n",
        "\n",
        "\n",
        "<div>\n",
        "\n",
        "<img src=\"https://newsroom.ibm.com/image/24-04-02_IBM+Quantum+System+One+RPI_Final_V2-1920-720.jpg\" style=\"height:340px\" />\n",
        "\n",
        "</div>"
      ],
      "metadata": {
        "id": "T2i3Kc7MRLrI"
      }
    },
    {
      "cell_type": "markdown",
      "source": [
        "# BEGIN NOTEBOOK 5"
      ],
      "metadata": {
        "id": "gGg3SrXNW5ke"
      }
    },
    {
      "cell_type": "markdown",
      "metadata": {
        "id": "aWU_ujciDJ2p"
      },
      "source": [
        "Welcome to the Last notebook of Part 1!!! 🙌\n",
        "\n",
        "This notebook will explore the concepts of eigenvalues, eigenvectors, and expectation values. You will also use real IBM Quantum Devices and tools such as Sampler and Estimator. Clarity of some rudiments is necessary before doing this.\n",
        "\n"
      ]
    },
    {
      "cell_type": "markdown",
      "source": [
        "<h2>Eigenvalues and Eigenvectors</h2>"
      ],
      "metadata": {
        "id": "HNeoYhH3MkVp"
      }
    },
    {
      "cell_type": "markdown",
      "source": [
        "Matrices, vectors, and eigenvalues are some of the concepts you might've encountered in high school and would have seen the formula $\\rightarrow \\ AX = \\lambda X$.\n",
        "\n",
        "It means that A is a matrix when multiplied to a vector X, is equivalent to $\\lambda$, a constant value, being multiplied to the same vector X. If this condition is satisfied, X is said to be the eigenvector of A and $\\lambda$ is its respective eigenvalue.\n",
        "\n",
        "**An eigenvalue is the factor by which the matrix A will transform(increase the length, rotate, etc) the vector X.**\n",
        "\n",
        "Another fact is that unitary matrices don't increase or decrease the length of the vectors; they only rotate the vector.\n",
        "\n",
        "What would the eigenvalue of these Unitary rotation matrices would look like?\n",
        "\n",
        "You already know that the vector's probabilities always sum to 1(Normalization condition). So, the vector stays on a unit sphere(Bloch Sphere).\n",
        "\n",
        "So  $U|\\psi \\rangle = e^{2\\pi i \\theta} |\\psi \\rangle$ where $2\\pi$ denotes one full rotation in a unit circle and theta($\\theta$) denotes the angle of rotation\n",
        "\n",
        "Applying Quantum Gates(Unitary Matrices) on a qubit will rotate it by an eigenvalue $e^{2\\pi I \\theta}$, which is denoted by the equation $U|\\psi \\rangle = e^{2\\pi I \\theta} |\\psi \\rangle$.\n",
        "\n",
        "Eigenvalues and eigenvectors are fundamental concepts to grasp because finding this value is a crucial aspect in many applications of quantum computing. When you measure a qubit once on a Quantum computer, all that it gives you is an eigenvalue with which you will know if the qubit has collapsed to $|0\\rangle$ or $|1\\rangle$\n",
        "\n",
        "In a Z-basis measurement, the possible eigenvalues are 1 and -1. Pauli Z matrix has two eigenstates $| 0\\rangle$ and $|1\\rangle$ with respective eigenvalues of 1 and -1. Sampler is the computational tool in Qiskit that uses IBM quantum devices to run the circuits and measure the qubits to get the eigenvalues of the collapsed state. Doing this many times will give the probabilities of various states.\n",
        "\n",
        "Here is a little mathematical task:\n",
        "\n",
        "Try to calculate the eigenvalues and eigenvectors of the Pauli Z matrix."
      ],
      "metadata": {
        "id": "tXf1n1HtMkJQ"
      }
    },
    {
      "cell_type": "markdown",
      "metadata": {
        "id": "xBSIsHRzDJ2p"
      },
      "source": [
        "<h2>Expectation Value and Observables</h2>"
      ]
    },
    {
      "cell_type": "markdown",
      "metadata": {
        "id": "aQCCC6q7DJ2p"
      },
      "source": [
        "After getting the probabilities, there is one additional step to find the Expectation Value: the weighted average(sum of the probabilities of all eigenstates multiplied by their respective eigenvalue). It is similar to calculating the average value.\n",
        "\n",
        "Taking an example from the previous notebook, measuring the state $\\frac{1}{\\sqrt3}|0\\rangle + \\sqrt{\\frac{2}{3}} |1\\rangle$ a 1000 times(shots) and getting the eigenvalue of $|0\\rangle$(which is 1) 333 times and the eigenvalue of $|1\\rangle$(which is -1) 667 times\n",
        "\n",
        "Expectation value = $(1)\\frac{333}{1000} + (-1)\\frac{667}{1000} = (1)\\frac{1}{3} + (-1)\\frac{2}{3} = \\frac{-1}{3}$\n",
        "\n",
        "<br>\n",
        "\n",
        "$(1)\\frac{1}{3} + (-1)\\frac{2}{3} \\rightarrow \\ \\ (\\langle 1| \\sqrt{\\frac{2}{3}} + \\langle 0| \\frac{1}{\\sqrt3}) \\ \\ (|0\\rangle \\langle 0|-|1\\rangle \\langle 1|)\\ \\ (\\frac{1}{\\sqrt3}|0\\rangle + \\sqrt{\\frac{2}{3}} |1\\rangle)$\n",
        "\n",
        "<br>\n",
        "\n",
        "What is the thing sandwiched between the Bra and Ket of the state?????\n",
        "\n",
        "Isn't it the Z gate (Z operator or Pauli Z matrix)? $Z=|0\\rangle \\langle 0| -  |1\\rangle \\langle 1|$\n",
        "\n",
        "<br>\n",
        "\n",
        "$(\\langle 1| \\frac{2}{3} + \\langle 0| \\frac{1}{3}) \\ \\ Z\\ \\ (\\frac{1}{3}|0\\rangle + \\frac{2}{3} |1\\rangle)\\ \\ = \\ \\ \\langle \\Psi |\\ Z\\ |\\Psi \\rangle$\n",
        "\n",
        "So, $\\langle \\Psi |\\ Z\\ |\\Psi \\rangle = {\\langle \\ Z\\ \\rangle}_{\\Psi}$ is the representation of the expectation value of an observable(Z is the Observable in this case).\n",
        "\n",
        "What more does measuring the expectation value of an observable(Such as Z) mean?\n",
        "\n",
        "A general definition of an observable is \"a physical quantity or property that can be measured\"—for example, the position and momentum of a quantum particle are two observable quantities. Operators(matrices) corresponding to physical observables are Hermitian. An operator A is said to be Hermitian if $A=A^†$ (equal to its complex conjugated transpose). Hermitian operators guarantee to have real eigenvalues. i.e., its measured values are Real.\n",
        "\n",
        "Visual interpretation of the expectation value is the average position of the vector in the Bloch sphere. Out of  \"n\" no. of measurements, what is the average position of the vector in the Bloch sphere? Finding the expectation value of Z observable means finding the average position of the vector with respect to the Z-axis."
      ]
    },
    {
      "cell_type": "markdown",
      "metadata": {
        "id": "7KMGpeQODJ2p"
      },
      "source": [
        "<h2>Hamiltonian</h2>"
      ]
    },
    {
      "cell_type": "markdown",
      "metadata": {
        "id": "IMfDZkYeDJ2p"
      },
      "source": [
        "Basic idea of the Hamiltonian will give more insight into the above topics of observables.\n",
        "\n",
        "A physics POV definition says that the Hamiltonian describes the energy change in a system.\n",
        "\n",
        "Applying various hamiltonians, time evolution, finding ground state energy are topics for next notebooks.\n",
        "\n",
        "Let's end the notebook by learning two most important tools in Qiskit and using them to calculate probabilities and expectaion value."
      ]
    },
    {
      "cell_type": "markdown",
      "metadata": {
        "id": "_BTDNfe-DJ2p"
      },
      "source": [
        "<h2>Sampler Vs Estimator</h2>"
      ]
    },
    {
      "cell_type": "markdown",
      "metadata": {
        "id": "cSfNScp8DJ2p"
      },
      "source": [
        "It's time to put all the above concepts to practice and play with the Sampler and Estimator tools in Qiskit. The Sampler and Estimator run the circuits on the quantum system.\n",
        "\n",
        "What does the Sampler do?\n",
        "\n",
        "It calculates the eigenvalue and the respective collapsed state using an IBM Quantum backend. And does it n number of times(assigned using shots parameter) to get the probability of each quantum state to which the qubits collapse? The number of times a particular eigenvalue is measured as the outcome, divided by the number of shots, will give the probability of the respective eigenstate.\n",
        "\n",
        "What does an Estimator do?\n",
        "\n",
        "It is almost similar to the Sampler, but after getting the probabilities, it has an additional post-processing step of calculating the expectation value using those probabilities.\n",
        "\n",
        "Sampler and Estimator are chosen based on the problem one is tackling and the required outcome.\n",
        "\n",
        "It's about dang time to run a quantum circuit on a real quantum computer to understand Sampler and Estimator."
      ]
    },
    {
      "cell_type": "markdown",
      "source": [
        "<h3> Install and import all the necessary packages</h3>"
      ],
      "metadata": {
        "id": "hwtk3XRor2HD"
      }
    },
    {
      "cell_type": "code",
      "source": [
        "# INSTALL THE PACKAGES BEFORE YOU CAN IMPORT ANYTHING\n",
        "# HOLD SHIFT & HIT ENTER TO RUN THE CODE CELL\n",
        "!pip install qiskit\n",
        "!pip install qiskit-aer\n",
        "!pip install qiskit-ibm-runtime\n",
        "!pip install numpy\n",
        "!pip install matplotlib\n",
        "!pip install pylatexenc"
      ],
      "metadata": {
        "id": "gpL6gHZBDHQY"
      },
      "execution_count": null,
      "outputs": []
    },
    {
      "cell_type": "code",
      "source": [
        "# From Qiskit Import all the necessary packages that you will be using in this notebook\n",
        "# HOLD SHIFT & HIT ENTER TO RUN THE CODE CELL\n",
        "\n",
        "from qiskit import *\n",
        "from qiskit.quantum_info import *\n",
        "from numpy import *\n",
        "from qiskit.primitives import *\n",
        "from qiskit.visualization import *\n",
        "from qiskit_aer import *\n",
        "from qiskit_ibm_runtime import *"
      ],
      "metadata": {
        "id": "aOJ05-IJD3AS"
      },
      "execution_count": null,
      "outputs": []
    },
    {
      "cell_type": "markdown",
      "metadata": {
        "id": "hv0u432PDJ2p"
      },
      "source": [
        "<h2> Save your IBM account </h2>\n",
        "\n",
        "Before rushing to the coding part, edit the code below to import your IBM Quantum account and access the IBM systems. To recollect the Steps to save your account, revisit the 4th notebook. You can replace the below code following those steps or replace your instance and API TOKEN details in the code below.\n",
        "\n",
        "If you run these notebooks on your PC local environment(visual studio code, etc) and have already saved your account, you don't need to do it again. But running these notebooks in online cloud platforms(Google Colab, etc.) requires you to save them for every other Python notebook whenever you reopen it."
      ]
    },
    {
      "cell_type": "code",
      "execution_count": null,
      "metadata": {
        "id": "ui3Jg9mYDJ2p"
      },
      "outputs": [],
      "source": [
        "\n",
        "from qiskit_ibm_runtime import QiskitRuntimeService\n",
        "\n",
        "service = QiskitRuntimeService(\n",
        "    channel='ibm_quantum',\n",
        "    instance='usc/phys550/phys550',\n",
        "    token='0299a39109c848cec870f86e581a6f6e42c6f8399f04a15960460bcbfc365e916bcb8cec9c47c4482ce5672a42ae045f3508364b21e278746f1205d5992921d0'\n",
        ")\n",
        "\n",
        "# Or save your credentials on disk.\n",
        "#QiskitRuntimeService.save_account(channel='ibm_quantum', instance='', token='')\n"
      ]
    },
    {
      "cell_type": "markdown",
      "metadata": {
        "id": "rzLEnnUBDJ2q"
      },
      "source": [
        "Qiskit Runtime is a new architecture that streamlines computations requiring many iterations. These experiments will execute significantly faster within its improved hybrid quantum/classical process. Qiskit Runtime has two predefined primitives: Sampler and Estimator."
      ]
    },
    {
      "cell_type": "markdown",
      "metadata": {
        "id": "b7muKoWzDJ2q"
      },
      "source": [
        "<h3>Sampler</h3>"
      ]
    },
    {
      "cell_type": "markdown",
      "metadata": {
        "id": "9skUmH0SDJ2q"
      },
      "source": [
        "After importing/saving your IBM Quantum account, the next step is to select a device. In your IBM Quantum portal, you can see the list of all the instances (devices) that are available to you. The code below uses the least_busy() method to select a system with fewer queued jobs when you run the code."
      ]
    },
    {
      "cell_type": "code",
      "execution_count": null,
      "metadata": {
        "id": "qA5NPkdoDJ2q"
      },
      "outputs": [],
      "source": [
        "from qiskit_ibm_runtime import QiskitRuntimeService\n",
        "\n",
        "\n",
        "backend = service.least_busy(operational=True, simulator=False, min_num_qubits=127)\n",
        "print(backend)"
      ]
    },
    {
      "cell_type": "markdown",
      "source": [
        "Instead of a simple circuit like a Bell state, the code below will generate a random circuit with four qubits and four classical bits. You can change the number of qubits and bits if you want to."
      ],
      "metadata": {
        "id": "NSuy6tMAzwAR"
      }
    },
    {
      "cell_type": "code",
      "execution_count": null,
      "metadata": {
        "id": "su4pzeHrDJ2q"
      },
      "outputs": [],
      "source": [
        "import numpy as np\n",
        "from qiskit.circuit.library import IQP\n",
        "from qiskit.transpiler.preset_passmanagers import generate_preset_pass_manager\n",
        "from qiskit.quantum_info import random_hermitian\n",
        "\n",
        "from qiskit.circuit.random import random_circuit\n",
        "\n",
        "circuit = random_circuit(4, 4, measure=True)\n",
        "circuit.draw(output='mpl')\n"
      ]
    },
    {
      "cell_type": "markdown",
      "metadata": {
        "id": "obQvmmJhDJ2q"
      },
      "source": [
        "After creating the circuit, there is an additional step before executing it on a real device. This step is called Transpiration. The key reason behind transpilation is to convert the circuit and all its gates to the fundamental and executable gates that are built-in on the selected quantum device.\n",
        "\n",
        "qiskit.transpiler.preset_passmanagers module contains functions for generating the preset pass managers for the transpiler. The preset pass managers are instances of StagedPassManager, used to execute the circuit transformations as part of Qiskit’s compiler inside the transpile() function at different optimization levels.\n",
        "\n",
        "The code below will use generate_preset_pass_manager to convert the gates in the circuit to the most fundamental built-in gates set on the device you selected using the least_busy() function.\n",
        "\n",
        " This step is essential; you can set the optimization_level from 1 to 3, which increases the order of optimization quality(3 being the highest level optimization and 1 being the lowest). Optimization helps reduce the number of gates, gate errors, and more. You can read more about what different optimization levels do in the [documentation](https://docs.quantum.ibm.com/api/qiskit/transpiler_preset)."
      ]
    },
    {
      "cell_type": "code",
      "execution_count": null,
      "metadata": {
        "id": "V7fomEevDJ2q"
      },
      "outputs": [],
      "source": [
        "pm = generate_preset_pass_manager(optimization_level=1, backend=backend)\n",
        "isa_circuit = pm.run(circuit)\n",
        "isa_circuit.draw(output='mpl')"
      ]
    },
    {
      "cell_type": "markdown",
      "metadata": {
        "id": "3dWVgBP_DJ2q"
      },
      "source": [
        "It is time to initialize the samplerV2 which is version 2 of the Sampler from qiskit_ibm_runtime."
      ]
    },
    {
      "cell_type": "code",
      "execution_count": null,
      "metadata": {
        "id": "plAgaokhDJ2q"
      },
      "outputs": [],
      "source": [
        "from qiskit_ibm_runtime import SamplerV2 as Sampler\n",
        "\n",
        "sampler = Sampler(mode=backend)"
      ]
    },
    {
      "cell_type": "markdown",
      "metadata": {
        "id": "Q2wx7S1tDJ2q"
      },
      "source": [
        "The moment has finally arrived to run the transpiled circuit on the real device using the sampler. The code below will run the circuit, create a job, print the job ID, and show the job status.\n",
        "\n",
        "You can also monitor the job status in your IBM Quantum portal."
      ]
    },
    {
      "cell_type": "code",
      "execution_count": null,
      "metadata": {
        "id": "HE3BSmOBDJ2q"
      },
      "outputs": [],
      "source": [
        "job = sampler.run([isa_circuit])\n",
        "print(f\">>> Job ID: {job.job_id()}\")\n",
        "print(f\">>> Job Status: {job.status()}\")"
      ]
    },
    {
      "cell_type": "markdown",
      "metadata": {
        "id": "TcZ3m4PYDJ2q"
      },
      "source": [
        "Before running the following code cell, go to your IBM Quantum portal and click on jobs tabs to see a new job added to the Queue. After you see the job status as completed in the portal, run the below code cell to see the output."
      ]
    },
    {
      "cell_type": "code",
      "execution_count": null,
      "metadata": {
        "id": "v_IEgWxCDJ2r"
      },
      "outputs": [],
      "source": [
        "result = job.result()\n",
        "\n",
        "# Get results for the first (and only) PUB\n",
        "pub_result = result[0]\n",
        "print(f\"Counts for the meas output register: {pub_result.data.meas.get_counts()}\")"
      ]
    },
    {
      "cell_type": "markdown",
      "source": [
        "As you got the probability counts from the experiment after a successful run, the next step is to plot the counts."
      ],
      "metadata": {
        "id": "ugwSF9wbPlew"
      }
    },
    {
      "cell_type": "code",
      "execution_count": null,
      "metadata": {
        "id": "Hiur3XDlDJ2r"
      },
      "outputs": [],
      "source": [
        "plot_histogram(pub_result.data.meas.get_counts())"
      ]
    },
    {
      "cell_type": "markdown",
      "source": [
        "Now you know how to use a Sampler to run a quantum circuit on a real quantum device and get the probability counts.\n",
        "\n",
        "The next concept to experiment and understand is the expectation value using the Estimator."
      ],
      "metadata": {
        "id": "jGNZlQ3HUXcF"
      }
    },
    {
      "cell_type": "markdown",
      "metadata": {
        "id": "pdWOtgL_DJ2r"
      },
      "source": [
        "<h3>Estimator</h3>"
      ]
    },
    {
      "cell_type": "markdown",
      "metadata": {
        "id": "5VbQ1ZERDJ2r"
      },
      "source": [
        "It's time to calculate the expectation value of the observables using the Estimator. Let's import and initialize the Estimator below. All steps are similar to the ones in the above Sampler experiment.\n",
        "\n",
        "Steps:\n",
        "\n",
        "- Select a backend (IBM system)\n",
        "- Create a circuit and define the observables you want to measure\n",
        "- Transpile the circuit for your backend\n",
        "- Create the Estimator instance\n",
        "- Run the job using the Estimator\n",
        "- Print and Plot the result\n",
        "\n",
        "READ THE COMMENTS IN EVERY CELL"
      ]
    },
    {
      "cell_type": "code",
      "execution_count": null,
      "metadata": {
        "id": "-GynqSWoDJ2r"
      },
      "outputs": [],
      "source": [
        "# GET THE BACKEND USING least_busy()\n",
        "\n",
        "from qiskit_ibm_runtime import QiskitRuntimeService, EstimatorV2 as Estimator\n",
        "\n",
        "service = QiskitRuntimeService()\n",
        "backend = service.least_busy(operational=True, simulator=False, min_num_qubits=127)\n",
        "estimator = Estimator(mode=backend)\n",
        "print(backend)"
      ]
    },
    {
      "cell_type": "code",
      "execution_count": null,
      "metadata": {
        "id": "8r2qO4SiDJ2r"
      },
      "outputs": [],
      "source": [
        "print(backend)"
      ]
    },
    {
      "cell_type": "code",
      "execution_count": null,
      "metadata": {
        "id": "2vvr4T-8DJ2r"
      },
      "outputs": [],
      "source": [
        "# CREATE A CIRCUIT\n",
        "\n",
        "import numpy as np\n",
        "from qiskit.circuit.library import IQP\n",
        "from qiskit.transpiler.preset_passmanagers import generate_preset_pass_manager\n",
        "from qiskit.quantum_info import SparsePauliOp, random_hermitian\n",
        "\n",
        "n = 20                                           # Feel free to change the n value if you want to\n",
        "\n",
        "from qiskit.circuit.random import random_circuit\n",
        "\n",
        "circuit = random_circuit(n, n, measure=True)     # Creating a random circuit\n",
        "circuit.draw(output='mpl')\n",
        "\n",
        "# CREATE OBSERVABLE\n",
        "\n",
        "observable = SparsePauliOp(\"Z\" * n_qubits)        # SparsePauliOp() can be used to create pauli spin observables\n",
        "print(f\">>> Observable: {observable.paulis}\")     # This code created a simple n-spin Z observable"
      ]
    },
    {
      "cell_type": "code",
      "execution_count": null,
      "metadata": {
        "id": "6M5fyx_fDJ2r"
      },
      "outputs": [],
      "source": [
        "#  TRANSPILING THE CIRCUIT\n",
        "\n",
        "pm = generate_preset_pass_manager(optimization_level=3, backend=backend)\n",
        "isa_circuit = pm.run(circuit)\n",
        "\n",
        "# MAP THE OBSERVABLE ON TO THE PHYSICAL QUBITS ON THE CHIP\n",
        "isa_observable = observable.apply_layout(isa_circuit.layout)"
      ]
    },
    {
      "cell_type": "code",
      "execution_count": null,
      "metadata": {
        "id": "GBk27fwmDJ2r"
      },
      "outputs": [],
      "source": [
        "# CREATE THE ESTIMATOR INSTANCE\n",
        "\n",
        "from qiskit_ibm_runtime import EstimatorV2 as Estimator\n",
        "\n",
        "estimator = Estimator(mode=backend)"
      ]
    },
    {
      "cell_type": "code",
      "execution_count": null,
      "metadata": {
        "id": "2S3X5kEWDJ2r"
      },
      "outputs": [],
      "source": [
        "# RUN THE CIRCUIT\n",
        "\n",
        "job = estimator.run([(isa_circuit, isa_observable)]) # Both the circuit and the observable are parameters for the estimator\n",
        "print(f\">>> Job ID: {job.job_id()}\")\n",
        "print(f\">>> Job Status: {job.status()}\")"
      ]
    },
    {
      "cell_type": "code",
      "execution_count": null,
      "metadata": {
        "id": "dtF0KoHwDJ2r"
      },
      "outputs": [],
      "source": [
        "# DISPLAY THE EXPECTATION VALUE\n",
        "\n",
        "result = job.result()\n",
        "print(f\">>> {result}\")\n",
        "print(f\"  > Expectation value: {result[0].data.evs}\")\n",
        "print(f\"  > Metadata: {result[0].metadata}\")"
      ]
    },
    {
      "cell_type": "markdown",
      "metadata": {
        "id": "idMTafnZDJ2r"
      },
      "source": [
        "<h3>A Visualized play with observables and Expectation Value</h3>"
      ]
    },
    {
      "cell_type": "markdown",
      "metadata": {
        "id": "19HPFTt9DJ2r"
      },
      "source": [
        "To truly understand the expectation value, let's do one last experiment, which will be the end of notebook five and part 1 of the series. In the code below, we are trying to calculate the expectation values for XX, YY, and ZZ observables for a circuit.\n",
        "\n",
        "A reminder of how expectation value can be calculated: Run the circuit n number of shots, get the probabilities, and find the average position. For example, measuring XX observable means measuring the average position of the state vector with respect to the X-axis for both the qubits.\n",
        "\n",
        "Now, you need to conduct two mini-experiments\n",
        "\n",
        "**Mini-experiment 1:** As the quantum circuit is already created in the code below, just run the code without adding any gates. But before you do that, guess which observable will have the highest expectation value after plotting the results.\n",
        "\n",
        "If your answer is ZZ, voila! you are correct because all qubits are by default initialized in state $|0\\rangle$, so there is a high chance that the average of the quantum particle, when measured, will be closer to the Z axis.\n",
        "\n",
        "**Mini-experiment 2:** Now, if you apply a Hadamard gate on both the qubits and if you remember how the state vector in the Bloch sphere rotated when you applied a Hadamard gate in the second notebook, you can guess which observable will have a high expectation value in this experiment.\n",
        "\n",
        "Please give your best guess, apply the Hadamard gate to each of the two qubits in the code below, and run it to verify your guess."
      ]
    },
    {
      "cell_type": "code",
      "execution_count": null,
      "metadata": {
        "id": "N5NrqwAYDJ2r"
      },
      "outputs": [],
      "source": [
        "from qiskit import QuantumCircuit\n",
        "from qiskit.quantum_info import SparsePauliOp\n",
        "from qiskit_aer.primitives import Estimator\n",
        "\n",
        "# Simple estimation experiment to create results\n",
        "qc = QuantumCircuit(2)\n",
        "\n",
        "# APPLY THE QUANTUM LOGIC GATES TO THE CIRCUIT\n",
        "# WRITE THE CODE BELOW\n",
        "\n",
        "\n",
        "\n",
        "\n",
        "\n",
        "\n",
        "\n",
        "observables_labels = [\"ZZ\", \"XX\", \"YY\"]\n",
        "observables = [SparsePauliOp(label) for label in observables_labels]\n",
        "\n",
        "result = Estimator().run([qc]*3, observables).result()\n",
        "print(result)\n",
        "\n",
        "# Plot using Matplotlib\n",
        "from matplotlib import pyplot as plt\n",
        "plt.bar(observables_labels, result.values)"
      ]
    },
    {
      "cell_type": "markdown",
      "source": [
        "<h2>Task</h2>\n",
        "\n",
        "Using the code above\n",
        "1. Create a two-qubit random circuit of your choice\n",
        "2. Add more observables, such as, XY, IX, XI, ZX, etc, to the list\n",
        "3. measure all the observables on your random quantum state"
      ],
      "metadata": {
        "id": "JuU6MbjvqRci"
      }
    },
    {
      "cell_type": "code",
      "source": [
        "# WRITE YOUR CODE BELOW\n",
        "\n",
        "\n",
        "\n",
        "\n",
        "\n",
        "\n"
      ],
      "metadata": {
        "id": "9duv9sNgrAP9"
      },
      "execution_count": null,
      "outputs": []
    },
    {
      "cell_type": "markdown",
      "metadata": {
        "id": "A4XlEX_8DJ2r"
      },
      "source": [
        "<h1>The End</h1>"
      ]
    },
    {
      "cell_type": "markdown",
      "source": [
        "Hurrahhhh!!!!🎉🎉🎉 Congratulations, you have successfully completed the fifth notebook in part 1 of the series. Kudos!!!👏👏👏\n",
        "\n",
        "Now, you can proudly say that you know some quantum computing and have run experiments on a real quantum computer.\n",
        "\n",
        "More parts and notebooks in the series are coming up soon with deep knowledge of quantum computing!!! See you in part 2.\n",
        "\n",
        "Below is the blueprint of a quantum computer if you want to have a look. There are also further readings and resources below that."
      ],
      "metadata": {
        "id": "7mHnZQ7arHrY"
      }
    },
    {
      "cell_type": "markdown",
      "metadata": {
        "id": "ITTRiPJcDJ2r"
      },
      "source": [
        "<img src=\"https://media.datacenterdynamics.com/media/images/IBM-Quantum-Computer-Inside-Look.original.jpg\" style=\"height:1500px\" />"
      ]
    },
    {
      "cell_type": "markdown",
      "metadata": {
        "id": "TgUHkilkDJ2r"
      },
      "source": [
        "### Further Resources\n",
        "\n",
        "If you are interested in knowing more about what quantum computing is and what are some of it's applications and possible future impact, Click the below link and follow the course.\n",
        "\n",
        "[Quantum Business Foundations - IBM Learning Platform](https://learning.quantum.ibm.com/course/quantum-business-foundations) - **Get your badge**\n",
        "\n",
        "An in detail video series on basics of Quantum Information by Dr. John Watrous - [Basics of Quantum Information](https://learning.quantum.ibm.com/course/basics-of-quantum-information)\n",
        "\n",
        "Generalized formulations of Quantum Information by Dr. John Watrous - [General Formulation of Quantum Information](https://learning.quantum.ibm.com/course/general-formulation-of-quantum-information)\n",
        "\n"
      ]
    },
    {
      "cell_type": "code",
      "source": [],
      "metadata": {
        "id": "q8pV1_JFVKm8"
      },
      "execution_count": null,
      "outputs": []
    }
  ]
}