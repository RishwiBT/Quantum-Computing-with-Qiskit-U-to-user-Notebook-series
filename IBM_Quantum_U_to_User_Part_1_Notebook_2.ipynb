{
  "nbformat": 4,
  "nbformat_minor": 0,
  "metadata": {
    "colab": {
      "provenance": []
    },
    "kernelspec": {
      "name": "python3",
      "display_name": "Python 3"
    },
    "language_info": {
      "name": "python"
    }
  },
  "cells": [
    {
      "cell_type": "markdown",
      "source": [
        "# IBM Quantum Campus Education Series\n",
        "## Part 1: A Delve into the Quantum Realm\n",
        "\n",
        "Creator:\n",
        "- Rishwi Thimmaraju\n",
        "\n",
        "Editors:\n",
        "- Brian Ingmanson\n",
        "- James Weaver\n",
        "- Katie McCormik\n",
        "\n",
        "## Notebook 2\n",
        "- particle Wave Duality\n",
        "- unitary Marices\n",
        "- Task 2\n",
        "\n",
        "\n",
        "<div>\n",
        "\n",
        "<img src=\"https://news.rpi.edu/sites/default/files/styles/sixteen_by_nine/public/2024-04/quantum%20beauty%20shot.jpg?itok=yHwz_uM9\" style=\"height:340px\" />\n",
        "\n",
        "</div>"
      ],
      "metadata": {
        "id": "6OOEnMgCPOnA"
      }
    },
    {
      "cell_type": "markdown",
      "source": [
        "# BEGIN NOTEBOOK 2"
      ],
      "metadata": {
        "id": "EovXV9R2WSzM"
      }
    },
    {
      "cell_type": "markdown",
      "metadata": {
        "id": "cF5aIy9nDJ2d"
      },
      "source": [
        "<h3>Notebook 1 might've made you ask</h3>\n",
        "\n",
        "Why do quantum particles collapse to one particular state when we measure them? and\n",
        "\n",
        "What does it mean when we say - \"before you measure them, they are in all possible states at the same time\"?\n",
        "\n",
        "Below is a way you can interpret or imagine this? 🤔\n",
        "\n",
        "These are one of the most beautiful questions that everyone have a slightly different answer for, but history has the best answer.\n",
        "\n",
        "Introducing the Wave particle Duality. which is basically a physics point of view for the quantum particle collapsing to random 0's and 1's that you have seen in the notebook 1, from a computation perspective.\n",
        "\n",
        "It is said that a quantum particle acts like a wave before we measure it, and behaves more like a particle after we measure it. But when did All these thoughts and experiments have started?\n",
        "\n",
        "<h3>History:</h3>\n",
        "\n",
        "In 17th Century Sir Issac Newton had advocated a thought saying that light is made up of Corpuscules, meaning tiny particles. It is called Newton's Corpuscular Theory. But a bit later Christiaan Huygens proposed an idea that light is waves. Then in 1801 Thomas young performed a very famous experiment called the Young's Double Slit experiment.\n",
        "\n",
        "\n",
        "|----------Sir Issac Newton----------|--------------Christian Huygens-------------|-------------Thomas young-------------|-------------Young's Double Slit Experiment--------------|\n",
        "|:-:|:-:|:-:|:-:|\n",
        "|![First Image](https://cdn.britannica.com/84/182384-050-E6EC1625/prism-Isaac-Newton-sunlight-experiment-band-colors.jpg)|![Second Image](https://upload.wikimedia.org/wikipedia/commons/thumb/a/a4/Christiaan_Huygens-painting.jpeg/800px-Christiaan_Huygens-painting.jpeg)|![Third Image](https://upload.wikimedia.org/wikipedia/commons/thumb/8/8e/Thomas_Young_by_Briggs_cropped.jpg/640px-Thomas_Young_by_Briggs_cropped.jpg)|![Fourth Image](https://www.researchgate.net/publication/263928386/figure/fig16/AS:668298094071817@1536346090544/Double-slit-experiment-illustrating-the-wave-behavior-of-light.png)|\n",
        "\n",
        "\n",
        "In young's double slit experiment above, when classical light, from a source, is passed through two slits. The light from the two slits was found to interfere in a similar way the ripples in a pond interact, when you throw two stones simultaneously side by side. This experiment strongly suggested that light is a wave. Wherever two waves interfere constructively(Crest interacting with another crest), their amplitude would add up and you would see a bright fringe there, and where they interfere destructively their waves cancel each other and you get a dark fringe.\n",
        "\n",
        "\n",
        "|Single Vs Double Slit|Double Slit|Single electron with 1-7 Slits|\n",
        "|:-:|:-:|:-:|\n",
        "|![First Image](https://upload.wikimedia.org/wikipedia/commons/thumb/d/dd/Single_slit_and_double_slit3.jpg/320px-Single_slit_and_double_slit3.jpg)|![Second Image](https://cdn.arstechnica.net/wp-content/uploads/2012/05/Q2-P10-Laser-Diffraction-and-Interference-still-640x359.jpg)|![Third Image](http://labman.phys.utk.edu/phys136core/modules/m9/images/ipat.jpg)|\n",
        "\n",
        "\n",
        "Later, in 1901 Planck proposed his planck's radiation law. He said that energy is quantized(fixed to set of values which are multiples) and it comes in integral multiples of quanta(one packet of energy), also called photons. Following this, einstein interpreted photoelectric effect which said light is made up of particles called photons. Then in 1922 Aurthur Compton did series of experiments demonstrating momentum of light which suggested a particle nature. Some experiments from JJ Thompson & Robert Millikan, and others showed that free electrons have particle like properties such as mass. So after so much back and forth between Wave and particle nature, finally...\n",
        "\n",
        "|-----------------------------------Max Planck----------------------------------------|--------------------------Albert Einstein------------------------|------------------Arthur Compton----------------|\n",
        "|:-:|:-:|:-:|\n",
        "|![Max Planck](https://www.thoughtco.com/thmb/z2QzNcQqUiSkVBjm1Ws1-ZhtzhQ=/1500x0/filters:no_upscale():max_bytes(150000):strip_icc()/GettyImages-515213792-9e897c8f79aa49e29103743732675c62.jpg)|![Second Image](https://i.pinimg.com/736x/9d/98/14/9d98148e17f73f4ece6c783e2c3dd1d3.jpg)|![Third Image](https://upload.wikimedia.org/wikipedia/commons/thumb/c/c0/Arthur_Compton_1927.jpg/440px-Arthur_Compton_1927.jpg)|\n",
        "\n",
        "|---------------JJ Thompson---------------|--------------------Robert Millikan-------------------|-----------------Louis De broglie----------------|\n",
        "|:-:|:-:|:-:|\n",
        "|![Fourth Image](https://upload.wikimedia.org/wikipedia/commons/thumb/c/c1/J.J_Thomson.jpg/400px-J.J_Thomson.jpg)|![Fifth Image](https://upload.wikimedia.org/wikipedia/commons/thumb/2/2f/Millikan.jpg/440px-Millikan.jpg)|![Sixth Image](https://upload.wikimedia.org/wikipedia/commons/d/d2/Broglie_Big.jpg)|\n",
        "\n",
        "\n",
        "Louis de Broglie in 1924, in his PhD thesis, proposed the concept called matter waves. He said, it's not just light that has both particle and wave nature. In fact all matter at quantum scale act as  waves and particles. A major misconception to clarify is, wave nature doesn't imply literal waves going all around, but what it means is, before we measure, a quantum particle is in superposition of all possible states like a continuous wave. When you measure(observe), it will become a particle and can be found in one particular spot.\n",
        "\n",
        "An extension to the above young's double slit experiment, done using single photons or single electrons instead of a classical light source, explains the particle wave duality in a better way.\n",
        "\n",
        "<div>\n",
        "<img src=\"https://www.researchgate.net/publication/262937062/figure/fig2/AS:667093229895684@1536058828277/A-schematic-of-Youngs-double-slit-experiment-performed-with-electrons-Plates-a-e.ppm\" style=\"height:200px margin: 20px\" />\n",
        "\n",
        "</div>\n",
        "\n",
        "In the above experiment when you shoot just one electron it just creates one dot on the screen similar to Image(b). which means it is acting like a particle. But when you keep shooting single electrons one after another you see the electrons hitting randomly in image(c) but no pattern revealed yet. Then if you continue shooting electrons, you can see the interference pattern emerge in Image(d)&(e) similar to the pattern observed from the wave description.🤔\n",
        "\n",
        "So the reason behind introducing wave nature is not to say that we are surrounded by waves all the time but to give imagination to the idea that before measuring or observing a quantum particle, it is in all possible places at the same time like a wave. If you have observed carefully, this experiment resembles our state vector measurement. The reason for using the variable \"shots\" in our qiskit code is to initiate the same state 1000(or x) times and measure it 1000(or x) times to measure the probability distribution of the quantum particle before measuring it. Higher the no. of shots(electrons shot) higher the accuracy in probability distribution(interference pattern). If you did not understand, please read it again. If you understood, isn't that mind boggling and weird?😮\n",
        "\n",
        "To conduct the above experiment yourself, execute the below codes"
      ]
    },
    {
      "cell_type": "code",
      "source": [
        "# YOU NEED TO INSTALL THE PACKAGES BEFORE YOU CAN IMPORT ANYTHING\n",
        "# HOLD SHIFT & HIT ENTER TO RUN THE CODE CELL\n",
        "!pip install qiskit\n",
        "!pip install qiskit-aer\n",
        "!pip install qiskit-ibm-runtime\n",
        "!pip install numpy\n",
        "!pip install matplotlib"
      ],
      "metadata": {
        "id": "S2WrIsu-DTyJ"
      },
      "execution_count": null,
      "outputs": []
    },
    {
      "cell_type": "code",
      "source": [
        "# From Qiskit Import all the necessary packages that you will be using in this notebook\n",
        "# HOLD SHIFT & HIT ENTER TO RUN THE CODE CELL\n",
        "\n",
        "from qiskit import *\n",
        "from qiskit.quantum_info import *\n",
        "from numpy import *\n",
        "from qiskit.primitives import *\n",
        "from qiskit.visualization import *\n",
        "from qiskit_aer import *"
      ],
      "metadata": {
        "id": "YDr_fLP4DhOv"
      },
      "execution_count": null,
      "outputs": []
    },
    {
      "cell_type": "markdown",
      "metadata": {
        "id": "tKo3Z9wfDJ2d"
      },
      "source": [
        "<h2>1 Shot Experiment: </h2>\n",
        "\n",
        "<h3>In the below code cell Input shots = 1 and run the cell</h3>"
      ]
    },
    {
      "cell_type": "code",
      "execution_count": null,
      "metadata": {
        "id": "lPM4_Vp_DJ2d",
        "outputId": "c3786401-150d-414d-cae0-06c0dd163914"
      },
      "outputs": [
        {
          "data": {
            "text/latex": [
              "$$\\frac{\\sqrt{3}}{3} |0\\rangle+\\frac{\\sqrt{6}}{3} |1\\rangle$$"
            ],
            "text/plain": [
              "<IPython.core.display.Latex object>"
            ]
          },
          "metadata": {},
          "output_type": "display_data"
        },
        {
          "data": {
            "text/plain": [
              "[0.57735027+0.j,0.81649658+0.j]"
            ]
          },
          "metadata": {},
          "output_type": "display_data"
        },
        {
          "name": "stdout",
          "output_type": "stream",
          "text": [
            "count of 0: 0\n",
            "count of 1: 1\n"
          ]
        },
        {
          "data": {
            "text/plain": [
              "{np.str_('1'): np.int64(1)}"
            ]
          },
          "metadata": {},
          "output_type": "display_data"
        },
        {
          "data": {
            "image/png": "[encoded data removed]",
            "text/plain": [
              "<Figure size 640x480 with 1 Axes>"
            ]
          },
          "execution_count": 38,
          "metadata": {},
          "output_type": "execute_result"
        }
      ],
      "source": [
        "# Try to create your own StateVector and see how the probabilities play out\n",
        "\n",
        "x = 1/sqrt(3)                                 # Input some value for the probability amplitude of the basis vector |0>\n",
        "y = sqrt(2)/sqrt(3)                           # Input some value for the probability amplitude of the basis vector |1>\n",
        "shots=                                        # Input No of Shots\n",
        "\n",
        "u = Statevector([x, y])\n",
        "display(u.draw(\"latex\"))                      #Displaying the State Vector in equation format\n",
        "display(u.draw(\"text\"))                       #Displaying it in vector format\n",
        "\n",
        "from qiskit.visualization import *\n",
        "\n",
        "counts = u.sample_counts(shots)\n",
        "display(counts)\n",
        "plot_histogram(counts)"
      ]
    },
    {
      "cell_type": "markdown",
      "metadata": {
        "id": "zWWrUAJYDJ2d"
      },
      "source": [
        "In the above code you have only measured one time, which is similar to firing only one electron and getting a dot on the screen in our updated double slit experiment.\n",
        "\n",
        "You must've got 0 or 1"
      ]
    },
    {
      "cell_type": "markdown",
      "source": [
        "<h2>Task 2: 10 Shot Experiment</h2>\n",
        "\n",
        "Write the same code as above but run it for 10 shots using the same initial state."
      ],
      "metadata": {
        "id": "3seeCm950gXH"
      }
    },
    {
      "cell_type": "code",
      "source": [
        "# WRITE YOUR CODE BELOW\n",
        "\n",
        "\n",
        "\n"
      ],
      "metadata": {
        "id": "cBGTmw7T0wMx"
      },
      "execution_count": null,
      "outputs": []
    },
    {
      "cell_type": "markdown",
      "source": [
        "If you have successfully run it, Kudos! You must've got the counts for 0 and 1. If you divide those counts by 10 and multiply by 100 you get the probability percentage of the quantum state collapse.\n",
        "\n",
        "As we know the initial state already, we can verify the accuracy of probabilities from the 10 shot experiment.\n",
        "\n",
        "Initial state is $\\frac{1}{\\sqrt3} |0\\rangle + \\sqrt{\\frac{2}{3}} |1\\rangle$ where\n",
        "$\\alpha^2 = (\\frac{1}{\\sqrt3})^2 = 0.333 \\ \\ \\ \\ and \\ \\ \\ \\ \\beta^2 = (\\sqrt{\\frac{2}{3}})^2 = 0.666 $\n",
        "\n",
        "Probability of $|0\\rangle = 33.3\\% $ and Probability of $|0\\rangle = 66.7\\% $\n",
        "\n",
        "Check if you got comparitively accurate probability results. Re run the 10 shot experiment and check again."
      ],
      "metadata": {
        "id": "h4Ty5l6f1i-F"
      }
    },
    {
      "cell_type": "markdown",
      "source": [
        "<h2>1000 Shot Experiment</h2>\n",
        "\n",
        "Now run the below code cell by inputting shots = 1000, to shoot 1000 electrons initialized in a similar state and measure."
      ],
      "metadata": {
        "id": "AjAicUQZ0e_x"
      }
    },
    {
      "cell_type": "code",
      "execution_count": null,
      "metadata": {
        "id": "hUqmDqsgDJ2d",
        "outputId": "ebbfa6b4-3c37-47b4-cc38-7cf2ffadf13a"
      },
      "outputs": [
        {
          "data": {
            "text/latex": [
              "$$\\frac{\\sqrt{3}}{3} |0\\rangle+\\frac{\\sqrt{6}}{3} |1\\rangle$$"
            ],
            "text/plain": [
              "<IPython.core.display.Latex object>"
            ]
          },
          "metadata": {},
          "output_type": "display_data"
        },
        {
          "data": {
            "text/plain": [
              "[0.57735027+0.j,0.81649658+0.j]"
            ]
          },
          "metadata": {},
          "output_type": "display_data"
        },
        {
          "name": "stdout",
          "output_type": "stream",
          "text": [
            "count of 0: 365\n",
            "count of 1: 635\n"
          ]
        },
        {
          "data": {
            "text/plain": [
              "{np.str_('0'): np.int64(366), np.str_('1'): np.int64(634)}"
            ]
          },
          "metadata": {},
          "output_type": "display_data"
        },
        {
          "data": {
            "image/png": "[encoded data removed]",
            "text/plain": [
              "<Figure size 640x480 with 1 Axes>"
            ]
          },
          "execution_count": 39,
          "metadata": {},
          "output_type": "execute_result"
        }
      ],
      "source": [
        "# Try to create your own StateVector and see how the probabilities play out\n",
        "\n",
        "x = 1/sqrt(3)                                 # Input some value for the probability amplitude of |0>\n",
        "y = sqrt(2)/sqrt(3)                           # Input some value for the probability amplitude of |1>\n",
        "shots=                                        # Input No of Shots\n",
        "\n",
        "u = Statevector([x, y])\n",
        "display(u.draw(\"latex\"))                      #Displaying the State Vector in equation format\n",
        "display(u.draw(\"text\"))                       #Displaying it in vector format\n",
        "\n",
        "from qiskit.visualization import *\n",
        "\n",
        "counts = u.sample_counts(shots)\n",
        "display(counts)\n",
        "plot_histogram(counts)"
      ]
    },
    {
      "cell_type": "markdown",
      "metadata": {
        "id": "QKGP-H52DJ2d"
      },
      "source": [
        "Now you can see electrons randomly measured to be either 0 or 1 certain number of times.\n",
        "\n",
        "The qubit(electron) measured \"0\" outcome:  3 _ _ times --> 3 _ _/1000 = 0.3 _ _\n",
        "\n",
        "The qubit(electron) measured \"1\" outcome:  6 _ _ times --> 6 _ _/1000 = 0.6 _ _\n",
        "\n",
        "Initial state is $\\frac{1}{\\sqrt3} |0\\rangle + \\sqrt{\\frac{2}{3}} |1\\rangle$\n",
        "\n",
        "$\\alpha^2 = (\\frac{1}{\\sqrt3})^2 = 0.333 \\ \\ \\ \\ and \\ \\ \\ \\ \\beta^2 = (\\sqrt{\\frac{2}{3}})^2 = 0.666 $\n",
        "\n",
        "Running the experiment more number of times will get the probabilities of each state in the wave function(a way to imagine quantum particle before measuring) with higher accuracy.\n",
        "\n",
        "So, as you have learned how to initialize and imagine about qubits and quantum, next step is controlling them or transforming their state...\n",
        "\n",
        "Get ready to control the Nature...🧙‍♀️"
      ]
    },
    {
      "cell_type": "markdown",
      "metadata": {
        "id": "mlBpe5WPDJ2d"
      },
      "source": [
        "<h2>Unitary Matrices - Quantum Gates - Controlling Nature with Nature...🧙‍♀️</h2>\n",
        "\n",
        "<h4>Any Ideas on how we can alter the state of the qubit?</h4>\n",
        "\n",
        "For Spin Qubits(one type of hardware) - You apply magnetic field in some particular direction for a specific amount of time which then rotates the electron. **\"Mathematically\"** these rotations to qubits can be represented using matrices. **\"Computationally\"** they are represented as quantum logic gates also called as Unitary gates because for a matrix to be considered as a Quantum gate, it should be a Unitary Matrix.\n",
        "\n",
        "Unitary Operators are Matrices that satisfy a property $U^\\dagger U = U U^\\dagger = I  => U^\\dagger = U^{-1}$\n",
        "\n",
        "Here, $I$ is the identity matrix, and $U^\\dagger$ is the conjugate transpose of $U$, meaning the matrix obtained by transposing $U$ and taking the complex conjugate of each entry.\n",
        "\n",
        "Unitary matrices transform the state of the qubit. They are the computational and mathematical objects that are quantum equivalent to classical logic gates. They doesn't change the length of the vector but only rotates them. That is why all quantum logic gates are Unitary. Multiplying a unitary matrix to a quantum state vector results in another quantum state vector.\n",
        "\n",
        "In superconducting qubits this is done by shooting the qubits with microwave pulses which have the rotation information embedded in them.\n",
        "\n",
        "Unitary Matrices only rotate a vector but they will not increase or decrease its length. But using these $R_x, \\ R_y,\\ R_z\\ $  rotaions(in x, y, z axes), a Universal set of gates can be formed through which any other transformation(or gate) can be applied by combining these universal gates.\n",
        "\n",
        "The Universal Gate Set is :- Single qubit gates - {X, Y, Z, H}, Multi qubit gates - {CX/CZ}\n",
        "\n",
        "(So all the above 4 single qubit gates and any one of those two-qubit gates(CX or CZ) together form a Universal gate set)\n",
        "\n",
        "**Just like the 5 infinity stones in The Avengers**. Each Gate(stone) is a different combination of the rotations(powers)\n",
        "\n",
        "\n",
        "They are mathematically represented using the following matrices:"
      ]
    },
    {
      "cell_type": "markdown",
      "metadata": {
        "id": "XJ786hu-DJ2d"
      },
      "source": [
        "Applying the gates on state $|1\\rangle =\n",
        "\\begin{bmatrix}\n",
        "0 \\\\\n",
        "1\n",
        "\\end{bmatrix}\n",
        "$\n",
        "\n",
        "$ Pauli Matrices \\ \\ \\ -> \\ \\ \\ X = \\sigma_x \\ \\; \\ \\ \\  Y = \\sigma_y \\ \\; \\ \\ \\ Z = \\sigma_z $\n",
        "\n",
        "$\n",
        "X \\begin{bmatrix}\n",
        "0 \\\\\n",
        "1\n",
        "\\end{bmatrix} =\n",
        "\\begin{bmatrix}\n",
        "0 & 1 \\\\\n",
        "1 & 0\n",
        "\\end{bmatrix}\n",
        "\\begin{bmatrix}\n",
        "0 \\\\\n",
        "1\n",
        "\\end{bmatrix} =\n",
        "\\begin{bmatrix}\n",
        "1 \\\\\n",
        "0\n",
        "\\end{bmatrix} \\ \\ \\ \\ \\ \\ \\ \\ \\\n",
        "Y \\begin{bmatrix}\n",
        "0 \\\\\n",
        "1\n",
        "\\end{bmatrix} =\n",
        "\\begin{bmatrix}\n",
        "0 & -i \\\\\n",
        "i & 0\n",
        "\\end{bmatrix}\n",
        "\\begin{bmatrix}\n",
        "0 \\\\\n",
        "1\n",
        "\\end{bmatrix} =\n",
        "\\begin{bmatrix}\n",
        "-i \\\\\n",
        "0\n",
        "\\end{bmatrix} = -i|0\\rangle \\ \\ \\ \\ \\\n",
        "Z \\begin{bmatrix}\n",
        "0 \\\\\n",
        "1\n",
        "\\end{bmatrix} =\n",
        "\\begin{bmatrix}\n",
        "1 & 0 \\\\\n",
        "0 & -1\n",
        "\\end{bmatrix}\n",
        "\\begin{bmatrix}\n",
        "0 \\\\\n",
        "1\n",
        "\\end{bmatrix} =\n",
        "\\begin{bmatrix}\n",
        "0 \\\\\n",
        "-1\n",
        "\\end{bmatrix} = -|1\\rangle \\ \\ \\ \\ \\ \\ \\ \\ \\ \\ \\ \\ \\ \\ \\ \\ \\\\\n",
        "$\n",
        "\n",
        "Hadamard Gate:\n",
        "\n",
        "$\n",
        "H \\begin{bmatrix}\n",
        "0 \\\\\n",
        "1\n",
        "\\end{bmatrix} =\n",
        "\\frac{1}{\\sqrt2} \\begin{bmatrix}\n",
        "1 & 1 \\\\\n",
        "1 & -1\n",
        "\\end{bmatrix}\n",
        "\\begin{bmatrix}\n",
        "0 \\\\\n",
        "1\n",
        "\\end{bmatrix} =\n",
        "\\frac{1}{\\sqrt2} \\begin{bmatrix}\n",
        "1 \\\\\n",
        "-1\n",
        "\\end{bmatrix} = \\frac{|0\\rangle - |1\\rangle}{\\sqrt2}\n",
        "$"
      ]
    },
    {
      "cell_type": "markdown",
      "metadata": {
        "id": "Nv4kwL94DJ2d"
      },
      "source": [
        "Let's computationally form these Operators and try to evolve the StateVector using them to verify if the math.\n",
        "\n",
        "Operator is a funciton in qiskit.quantum_info and takes multidimensional python list as the input matrix.\n",
        "\n",
        "**Rule: It should be a unitary matrix**"
      ]
    },
    {
      "cell_type": "code",
      "execution_count": null,
      "metadata": {
        "id": "wehzE8qZDJ2e"
      },
      "outputs": [],
      "source": [
        "from qiskit.quantum_info import Operator\n",
        "\n",
        "X = Operator([[0, 1], [1, 0]])\n",
        "Y = Operator([[0, -1.0j], [1.0j, 0]])\n",
        "Z = Operator([[1, 0], [0, -1]])\n",
        "H = Operator([[1 / sqrt(2), 1 / sqrt(2)], [1 / sqrt(2), -1 / sqrt(2)]])\n",
        "S = Operator([[1, 0], [0, 1.0j]])\n",
        "T = Operator([[1, 0], [0, (1 + 1.0j) / sqrt(2)]])"
      ]
    },
    {
      "cell_type": "markdown",
      "metadata": {
        "id": "V-t941WrDJ2e"
      },
      "source": [
        "H gate called as Hadamard gate puts Qubit $|0\\rangle$ and $|1\\rangle$ in equal superposition of $|0\\rangle$ and $|1\\rangle \\\\$\n",
        "\n",
        "$H|0\\rangle \\ \\ \\ = \\frac{|0\\rangle + |1\\rangle}{\\sqrt2} \\ \\ \\ \\ \\ \\ H|1\\rangle \\ \\ \\  = \\ \\frac{|0\\rangle - |1\\rangle}{\\sqrt2}$"
      ]
    },
    {
      "cell_type": "code",
      "execution_count": null,
      "metadata": {
        "id": "XfBkwDLoDJ2e",
        "outputId": "7023bbc2-0f41-4efd-cd25-20845bb96d08"
      },
      "outputs": [
        {
          "data": {
            "text/latex": [
              "$$\\frac{\\sqrt{2}}{2} |0\\rangle- \\frac{\\sqrt{2}}{2} |1\\rangle$$"
            ],
            "text/plain": [
              "<IPython.core.display.Latex object>"
            ]
          },
          "execution_count": 18,
          "metadata": {},
          "output_type": "execute_result"
        }
      ],
      "source": [
        "v = Statevector([0, 1])\n",
        "v = v.evolve(H)\n",
        "v.draw(\"latex\")"
      ]
    },
    {
      "cell_type": "markdown",
      "metadata": {
        "id": "Z3wlBYPtDJ2e"
      },
      "source": [
        "$T =\n",
        "\\begin{bmatrix}\n",
        "1 & 0 \\\\\n",
        "0 & e^{i \\pi /4}\n",
        "\\end{bmatrix}\n",
        "$"
      ]
    },
    {
      "cell_type": "code",
      "execution_count": null,
      "metadata": {
        "id": "YD_1YYF3DJ2e",
        "outputId": "93987955-c6ea-40d6-c6fe-cd64eafe2364"
      },
      "outputs": [
        {
          "data": {
            "text/latex": [
              "$$(\\frac{\\sqrt{2}}{2} + \\frac{\\sqrt{2} i}{2}) |1\\rangle$$"
            ],
            "text/plain": [
              "<IPython.core.display.Latex object>"
            ]
          },
          "execution_count": 17,
          "metadata": {},
          "output_type": "execute_result"
        }
      ],
      "source": [
        "v = Statevector([1/sqrt(2), 1/sqrt(2)])\n",
        "v = v.evolve(T)\n",
        "\n",
        "v.draw(\"latex\")"
      ]
    },
    {
      "cell_type": "markdown",
      "metadata": {
        "id": "QmzvqKbvDJ2e"
      },
      "source": [
        "$X|0\\rangle = |1\\rangle \\ \\ \\  \\ \\ X|1\\rangle = |0\\rangle \\ \\  \\ \\ \\ \\ \\ \\ => X(\\alpha|0\\rangle + \\beta|1\\rangle) = \\beta|0\\rangle + \\alpha |1\\rangle$"
      ]
    },
    {
      "cell_type": "code",
      "execution_count": null,
      "metadata": {
        "id": "VL_3GSt1DJ2e",
        "outputId": "f7fd3548-2fa8-46e6-cb68-b172e57ec389"
      },
      "outputs": [
        {
          "data": {
            "text/latex": [
              "$$ |0\\rangle$$"
            ],
            "text/plain": [
              "<IPython.core.display.Latex object>"
            ]
          },
          "execution_count": 19,
          "metadata": {},
          "output_type": "execute_result"
        }
      ],
      "source": [
        "v = Statevector([0, 1])\n",
        "v = v.evolve(X)\n",
        "v.draw(\"latex\")"
      ]
    },
    {
      "cell_type": "markdown",
      "metadata": {
        "id": "2Osc9opRDJ2e"
      },
      "source": [
        "$Y|0\\rangle = i|1\\rangle \\ \\ \\ \\ \\  Y|1\\rangle = -i|0\\rangle$"
      ]
    },
    {
      "cell_type": "code",
      "execution_count": null,
      "metadata": {
        "id": "_Qe7xbbIDJ2e",
        "outputId": "44af2a99-6062-4de1-faff-bd1baaeac9bf"
      },
      "outputs": [
        {
          "data": {
            "text/latex": [
              "$$- i |0\\rangle$$"
            ],
            "text/plain": [
              "<IPython.core.display.Latex object>"
            ]
          },
          "execution_count": 20,
          "metadata": {},
          "output_type": "execute_result"
        }
      ],
      "source": [
        "v = Statevector([0, 1])\n",
        "v = v.evolve(Y)\n",
        "v.draw(\"latex\")"
      ]
    },
    {
      "cell_type": "markdown",
      "metadata": {
        "id": "W5EeyKfLDJ2e"
      },
      "source": [
        "$Z|0\\rangle = |0\\rangle  \\ \\ \\ \\ \\ \\ \\ Z|1\\rangle = -|1\\rangle \\ \\ \\ \\ \\ \\  \\ => Z(\\alpha|0\\rangle + \\beta|1\\rangle) = \\alpha|0\\rangle -\\beta|1\\rangle$"
      ]
    },
    {
      "cell_type": "code",
      "execution_count": null,
      "metadata": {
        "id": "oR38eAacDJ2e",
        "outputId": "2eb87f30-7d7f-42da-9612-7bb5b708e1ca"
      },
      "outputs": [
        {
          "data": {
            "text/latex": [
              "$$- |1\\rangle$$"
            ],
            "text/plain": [
              "<IPython.core.display.Latex object>"
            ]
          },
          "execution_count": 21,
          "metadata": {},
          "output_type": "execute_result"
        }
      ],
      "source": [
        "v = Statevector([1/sqrt(2), 1/sqrt(2)])\n",
        "v = v.evolve(Z)\n",
        "v.draw(\"latex\")"
      ]
    },
    {
      "cell_type": "markdown",
      "source": [
        "<h2>Task 3</h2>\n",
        "\n",
        "Apply Hadamard Operator to the state $\\frac{1}{\\sqrt2}|0\\rangle + \\frac{1}{\\sqrt2}|1\\rangle$\n",
        "\n",
        "Do it mathematically and then compare it with computational output"
      ],
      "metadata": {
        "id": "-mdvIvMd4OQd"
      }
    },
    {
      "cell_type": "code",
      "source": [
        "# WRITE YOUR CODE BELOW\n",
        "\n",
        "\n"
      ],
      "metadata": {
        "id": "u8Wpdj0-41L6"
      },
      "execution_count": null,
      "outputs": []
    },
    {
      "cell_type": "markdown",
      "source": [
        "Hurrahhhh!!!!🎉🎉🎉 Congratulations, you have successfully completed the second notebook in the series. Kudos!!!👏👏👏\n",
        "\n",
        "To play with the Quantum Gates(Infinity Stones) and Circuits more, go to the next notebook. The next one shows you the world of a qubit visually!"
      ],
      "metadata": {
        "id": "bei-YoZI5GjE"
      }
    },
    {
      "cell_type": "markdown",
      "source": [
        "### Further Resources\n",
        "\n",
        "If you are interested in knowing more about what quantum computing is and what are some of it's applications and possible future impact, Click the below link and follow the course.\n",
        "\n",
        "[Quantum Business Foundations - IBM Learning Platform](https://learning.quantum.ibm.com/course/quantum-business-foundations) - **Get your badge**\n",
        "\n",
        "An in detail video series on basics of Quantum Information by Dr. John Watrous - [Basics of Quantum Information](https://learning.quantum.ibm.com/course/basics-of-quantum-information)\n",
        "\n",
        "Generalized formulations of Quantum Information by Dr. John Watrous - [General Formulation of Quantum Information](https://learning.quantum.ibm.com/course/general-formulation-of-quantum-information)\n",
        "\n"
      ],
      "metadata": {
        "id": "Ouv6DWQYuYpC"
      }
    },
    {
      "cell_type": "markdown",
      "source": [
        "# END NOTEBOOK 2"
      ],
      "metadata": {
        "id": "CSno9NHgWctl"
      }
    }
  ]
}