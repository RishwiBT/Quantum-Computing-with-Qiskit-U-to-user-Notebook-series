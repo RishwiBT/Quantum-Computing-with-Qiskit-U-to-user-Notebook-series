{
  "cells": [
    {
      "cell_type": "markdown",
      "metadata": {
        "id": "beNvCSXCDJ2Z"
      },
      "source": [
        "# IBM Quantum Campus Education Series\n",
        "## Part 1: A Delve into the Quantum Realm\n",
        "\n",
        "Creator:\n",
        "- Rishwi Thimmaraju\n",
        "\n",
        "Editors:\n",
        "- Brian Ingmanson\n",
        "- James Weaver\n",
        "- Katie McCormick\n",
        "\n",
        "## Notebook 1\n",
        "- Classical to quantum perspective\n",
        "- Representation of quantum information\n",
        "- Task\n",
        "\n",
        "\n",
        "<div>\n",
        "\n",
        "<img src=\"https://www.healthcaredive.com/imgproxy/l4RWZoDfGBfC9paguiK8Rtk32FMj4H3NZ6dQvZRoBHM/g:nowe:0:444/c:6254:3533/rs:fill:1600:900:1/bG9jYWw6Ly8vZGl2ZWltYWdlL0lCTV9RdWFudHVtX1N5c3RlbV9PbmVfYXRfQ2xldmVsYW5kX0NsaW5pY18yX0NvdXJ0ZXN5X19DbGV2ZWxhbmRfQ2xpbmljLnBuZw==.webp\" style=\"height:340px\" />\n",
        "\n",
        "</div>"
      ]
    },
    {
      "cell_type": "markdown",
      "metadata": {
        "id": "21AcTzb7DJ2a"
      },
      "source": [
        "# Classical To Quantum - Representation of Quantum Information"
      ]
    },
    {
      "cell_type": "markdown",
      "metadata": {
        "id": "27f_3wvwDJ2a"
      },
      "source": [
        "## Welcome to the first Python notebook of the IBM Quantum Campus Education Series!\n",
        "\n",
        "Throughout this series of Jupyter notebooks, you will be introduced to and immersed in the world of quantum computing. The material within has something for everyone, whether you're a first-year engineering student, a physics post-grad, or a PhD chemist.\n",
        "\n",
        "The goal of this series is to show you how quantum computers can be used in a variety of ways, shed light on the historical scientists and algorithms in the field, and provide a better understanding of what these devices might be used for.\n",
        "\n",
        "Join us for this adventure and read on!\n"
      ]
    },
    {
      "cell_type": "markdown",
      "metadata": {
        "id": "H0dkaz8bJL5f"
      },
      "source": [
        "### **Let's start with a question:**\n",
        "\n",
        "Consider the device you are reading these words on, probably a laptop or a PC, but surely some computer. **So, how does a computer work?**\n",
        "\n",
        "Go ahead, give it your best answer. We'll wait.\n",
        "\n",
        "🤔\n",
        "\n",
        "There are a lot of ways you could answer that question. To narrow it down, how about this question: what is the smallest unit of a computer?\n",
        "\n",
        "Would the smallest unit be the applications you download or the operating system itself? Or it could be the individual chips and cords inside your device. You could go even further and say the binary bits, the 0s and 1s, are the smallest unit. But then, what *is* a binary bit?\n",
        "\n",
        "To focus our learning even further, let's examine the hardware itself. Computers store binary information using **transistors**, which essentially showcase the presence of, or absence of, electrons. If electrons are present, the transistor registers the binary bit as `1`. If the electrons are not present, the transistor registers the binary bit as `0`.\n",
        "\n",
        "To make computers more powerful, we need to add more binary bits. To add more binary bits, we need to add more transistors. To add more transistors, we need more space. We can only make transistors *so* small. The most advanced supercomputer, developed by IBM, has 2 nm transistor technology, with anywhere between 5 to 20 atoms per transistor.\n",
        "\n",
        "At a certain point, we hit a limit to how small we can make transistors. This, in effect, puts a limit on how powerful our computers can get."
      ]
    },
    {
      "cell_type": "markdown",
      "metadata": {
        "id": "WEgzJYpoNvml"
      },
      "source": [
        "### Transistors are just too dang big\n",
        "\n",
        "Well, not really. At only 2 nanometers wide, the most sophisticated transistors can barely be seen by a human eye. But let's imagine you agree: transistors are just too big. What happens if you reduce the size of the transistor to 1nm, 0.5nm, 0.2nm?\n",
        "\n",
        "**Could you use a single atom, or electron, as a bit of information?**\n",
        "\n",
        "Now *this* takes us into the **quantum realm**.\n",
        "\n",
        "Using pieces of information that are the size of a single atom means we enter a different world of possibilities. At this size, **quantum mechanics** take over. Under the laws of quantum mechanics, particles behave weirdly, possessing not-so-intuitive characteristics. Remember that electrons or photons can act as our data at this quantum scale. A **qu**antum **bit** of data (AKA, a **qubit**) can behave differently than the binary bits of a classical transistor.\n",
        "\n",
        "* **For example:** A qubit can be put into \"superposition\", which gives it the ability to have a collection of possible answers, like a shaken-up magic 8 ball. We won't know exactly which answer it displays until we look at it.\n",
        "\n",
        "That's not all. Using other properties like entanglement and amplification - quantum computers present a totally new paradigm for how to approach and solve problems. Researchers, professors, and companies around the world are working hard to develop algorithms that can take advantage of these quantum mechanical properties. You will see some of those algorithms in these notebook series.\n",
        "\n",
        "<h2>Welcome, the the world of quantum computing!</h2>"
      ]
    },
    {
      "cell_type": "markdown",
      "metadata": {
        "id": "f9rihE0mQ9I_"
      },
      "source": [
        "### Why quantum?\n",
        "\n",
        "#### What problems can you solve using a quantum computer? Why should you be interested?\n",
        "\n",
        "Humans have been solving problems with classical computers for decades. And classical computing power has steadily improved, keeping pace with Moore's Law's prediction of doubling the number of transistors on a single chip every two years(by engineering smaller transistors). The quantum effects (which a classical computer does not like!) will start showing up if you reduce the transistor size any further. However, there is a class of problems, like simulating atoms and molecules for the new drug discovery, which can take days, months, and sometimes years to solve on a classical computer. A quantum computer presents a possible better way to solve these kind of problems.\n",
        "\n",
        "Your research, business, application, or work might also find a quantum advantage that you can leverage by learning this new perspective of computational problem solving. You can also be a technology trailblazer, something that's rarer and rarer these days.\n",
        "\n",
        "Or maybe you can just brag to your friends that you have run code on a real quantum computer, and they haven't 😜\n",
        "\n",
        "No matter what your reason, **keep going** and find your own path in quantum computing!\n",
        "\n",
        "\n"
      ]
    },
    {
      "cell_type": "markdown",
      "metadata": {
        "id": "6sjspqFeDJ2a"
      },
      "source": [
        "### Displaying the Differences\n",
        "\n",
        "The below image is an ultra-zoomed image of the 2nm classical transistor chip that IBM created:\n",
        "\n",
        "\n",
        "<img src=\"https://images.anandtech.com/doci/16656/Row%20of%202%20nm%20nanosheet%20devices.png\" style=\"width: 500px\">\n",
        "\n",
        "The below image is an image of a single atom caught in an ION TRAP. Look carefully to see a very small dot in the center. That is a qubit!\n",
        "\n",
        "<img src=\"https://www.physics.ox.ac.uk/sites/default/files/styles/scale_crop_1920x654/public/header_images_group/_MG_1200_compressed_0.jpg?itok=n1pqmsua\" style=\"height: 200px\">\n",
        "\n",
        "Ion traps are just one way to physically create a qubit. Similar to bridges, there are multiple ways to build a qubit, and each method has different strengths and weaknesses. IBM uses **superconducting qubits** in which pairs of electrons called Cooper pairs travel around a superconducting resonator.\n",
        "\n",
        "Here is a quantum computing chip, which includes in superconducting qubits (the dark blue squares). This is from one of IBM's first-ever public quantum computers, which featured 5 qubits.\n",
        "\n",
        "<img src=\"https://quanscient.com/hubfs/ibm-jpg.jpeg\" style=\"height: 200px\" />"
      ]
    },
    {
      "cell_type": "markdown",
      "metadata": {
        "id": "5zaEEEsub0W8"
      },
      "source": [
        "## The Math of Quantum Computation\n",
        "\n",
        "To study anything, we need a common language to communicate our ideas and concepts about a topic. Mathematics has always been a language that helps us understand physics in depth. Let's start by introducing the basic mathematical notations of quantum information.\n",
        "\n",
        "A qubit is mathematically denoted using the following StateVector format :\n",
        "\n",
        "$\n",
        "\\alpha |0 \\rangle + \\beta |1 \\rangle \\ \\ \\rightarrow\n",
        "\\begin{bmatrix}\n",
        "\\alpha \\\\\n",
        "\\beta\n",
        "\\end{bmatrix}\n",
        "$\n",
        "\n",
        "This mathematical expression tells you that upon measurement, the qubit will be found in state $|0\\rangle$ with $|\\alpha^2|$ probability and in state $|1\\rangle$ with $|\\beta^2|$ probability. $\\alpha$ and $\\beta$ are called probability amplitudes.\n",
        "\n",
        "if $\\alpha = \\beta = 1/ \\sqrt(2) \\ \\ $ then\n",
        "$\n",
        "\\begin{bmatrix}\n",
        "\\frac{1}{\\sqrt2} \\\\\n",
        "\\frac{1}{\\sqrt2}\n",
        "\\end{bmatrix}\n",
        "\\rightarrow \\frac{1}{\\sqrt2}\n",
        "\\begin{bmatrix}\n",
        "1 \\\\\n",
        "0\n",
        "\\end{bmatrix}\n",
        " \\ + \\\n",
        "\\frac{1}{\\sqrt2}\n",
        "\\begin{bmatrix}\n",
        "0 \\\\\n",
        "1\n",
        "\\end{bmatrix}\\ \\  \\rightarrow \\frac{1}{\\sqrt2} |0\\rangle + \\frac{1}{\\sqrt2} |1\\rangle \\ \\ $\n",
        "\n",
        "And now $\\alpha^2 = (\\frac{1}{\\sqrt2})^2 \\ and \\ \\beta^2 = (\\frac{1}{\\sqrt2})^2$ which means the qubit has a probability of {1/2, 1/2} (i.e 50% and 50%) of being found in either $|0\\rangle$ or $|1\\rangle$.\n",
        "\n",
        "This is called quantum superposition and is one of the core phenomena that powers quantum computers.\n",
        "\n",
        "The obvious question that many might have at this point is, *Why do quantum particles behave that way?*\n",
        "\n",
        "We'll ponder that question soon, but first, let's continue with the math behind it because <i>\"Mathematics is the language of Physics\"</i>.\n",
        "\n",
        "You have seen a vector\n",
        "$\\begin{bmatrix}\n",
        "\\frac{1}{\\sqrt2} \\\\\n",
        "\\frac{1}{\\sqrt2}\n",
        "\\end{bmatrix}$ converted to basis unit vectors of the form\n",
        "$\\frac{1}{\\sqrt2}\\begin{bmatrix}\n",
        "1 \\\\\n",
        "0\n",
        "\\end{bmatrix}+\n",
        "\\frac{1}{\\sqrt2}\\begin{bmatrix}\n",
        "0 \\\\\n",
        "1\n",
        "\\end{bmatrix}\n",
        "$\n",
        "\n",
        "$\n",
        "\\begin{bmatrix}\n",
        "1 \\\\\n",
        "0\n",
        "\\end{bmatrix}\n",
        "= |0\\rangle\n",
        "$\n",
        "in the same way\n",
        "$\n",
        "\\begin{bmatrix}\n",
        "0 \\\\\n",
        "1\n",
        "\\end{bmatrix}\n",
        "= |1\\rangle\n",
        "$\n",
        "\n",
        "Here $|0\\rangle, |1\\rangle$ (ket 0 and ket 1) are called basis vectors. Ket ($| \\ \\ \\rangle$) is a notation introduced by Paul Dirac which is used to represent the quantum states, which is why this is often referred to as \"Dirac notation.\"\n",
        "\n",
        "By multiplying some values (real or complex scalars) to the **basis vectors** $|0\\rangle $ and $|1\\rangle $, you can get to any other vector state. Basis vectors are the unit vectors that span the space of all vectors.\n",
        "\n",
        "As you might think, there are more than one set of basis vectors that you can choose. It is strongly recommended, at this moment, to watch the following video, **from 18:23(18 minutes 23 seconds) to 27:36(27 minutes 36 seconds)time frame**, to know more about Inner products, orthonormality and different basis sets [Video link](https://youtu.be/30U2DTfIrOU?si=fUaWdI41XG3_byhF&t=1103)\n",
        "\n",
        "Another widely used basis vector set is $ \\ \\  |+\\rangle = \\frac{1}{\\sqrt2} |0\\rangle + \\frac{1}{\\sqrt2} |1\\rangle \\ \\ $ and   $\\ |-\\rangle = \\frac{1}{\\sqrt2} |0\\rangle - \\frac{1}{\\sqrt2} |1\\rangle$.\n",
        "\n",
        "$|0\\rangle, \\ \\ |1\\rangle$ are called Z-basis or computational basis states, and $|+\\rangle, \\ \\ |-\\rangle$ are called X-basis or Hadamard basis or Diagonal basis or Fourier basis(shushhh, so many names right?).\n",
        "\n",
        "Different basis vector sets are helpful not only for representing the quantum state information but also for measuring a quantum state.\n",
        "\n",
        "A quantum state represented using the computational basis set {$|0\\rangle, \\ |1\\rangle$} will look like $\\alpha |0\\rangle + \\beta|1\\rangle$, where the coefficients in front of $|0\\rangle \\ \\ and \\ \\ |1\\rangle$ are called probability amplitudes.\n",
        "\n",
        "The sum of squares of those probability amplitudes of a quantum system or a qubit is always one. $\\alpha^2 + \\beta^2 = 1$ where $\\ \\alpha^2 \\ $ is the probability of qubit being in $|0\\rangle$ and $\\beta^2 \\ $ is the probability of qubit being in $|1\\rangle$\n",
        "\n",
        "**Rule: Sum of probabilities of all possible states should always equal 1**\n",
        "\n"
      ]
    },
    {
      "cell_type": "markdown",
      "metadata": {
        "id": "ZLXoFjYJa8PP"
      },
      "source": [
        "## Putting it into Practice\n",
        "\n",
        "It's time to use this Jupyter Notebook to its full potential. Below, you'll see code cells that will start running your first quantum computing code. You'll be using **Qiskit**, the quantum computing SDK provided by IBM Quantum.\n",
        "\n",
        "Qiskit is the industry's leading open-source package, which is preferred and used by most quantum computational scientists around the world.\n",
        "\n",
        "All you need to do for these next few cells is read the comments and run each cell."
      ]
    },
    {
      "cell_type": "code",
      "execution_count": null,
      "metadata": {
        "id": "yMNDC643DJ2b"
      },
      "outputs": [],
      "source": [
        "# REMEMBER TO READ THE COMMENTS IN EVERY CELL"
      ]
    },
    {
      "cell_type": "markdown",
      "metadata": {
        "id": "SMEsCCCpdjBb"
      },
      "source": [
        "Installing the necessary packages is the first step before you get your hands on coding.\n",
        "\n",
        "If you are using this notebook in Visual Studio code, running the below code cell will permanently install the packages onto your local memory.\n",
        "\n",
        "If you are using cloud services like Google Colab, you have to run the code cell below every time you open this notebook."
      ]
    },
    {
      "cell_type": "code",
      "execution_count": null,
      "metadata": {
        "id": "U10ZAN0UbiHO"
      },
      "outputs": [],
      "source": [
        "# INSTALL THE PACKAGES BEFORE YOU CAN IMPORT ANYTHING\n",
        "# HOLD SHIFT & HIT ENTER TO RUN THE CODE CELL\n",
        "!pip install qiskit\n",
        "!pip install qiskit-aer\n",
        "!pip install qiskit-ibm-runtime\n",
        "!pip install numpy\n",
        "!pip install matplotlib"
      ]
    },
    {
      "cell_type": "markdown",
      "metadata": {
        "id": "8WmtESUKbD-2"
      },
      "source": [
        "If you have successfully executed the above code cell and installed all the required packages, importing them into the notebook is the next step."
      ]
    },
    {
      "cell_type": "code",
      "execution_count": null,
      "metadata": {
        "id": "tbzexwd7DJ2b"
      },
      "outputs": [],
      "source": [
        "# From Qiskit Import all the necessary packages that you will be using in this notebook\n",
        "\n",
        "from qiskit import *\n",
        "from qiskit.quantum_info import *\n",
        "from numpy import *\n",
        "from qiskit.primitives import *"
      ]
    },
    {
      "cell_type": "markdown",
      "metadata": {
        "id": "zF2MRjahDJ2b"
      },
      "source": [
        "Let's try to visualize the state vectors using code.\n",
        "\n",
        "`StateVector()` is the function, in `qiskit.quantum_info`, that you use to input your values to form a vector.\n",
        "\n",
        " The `draw()` function is a property of a `StateVector()` that can display the vector in latex or text format."
      ]
    },
    {
      "cell_type": "code",
      "execution_count": null,
      "metadata": {
        "id": "uJYPcc-3DJ2b",
        "outputId": "7729af26-b97f-440c-a733-ba1fe645c887"
      },
      "outputs": [
        {
          "data": {
            "text/latex": [
              "$$\\frac{\\sqrt{2}}{2} |0\\rangle+\\frac{\\sqrt{2}}{2} |1\\rangle$$"
            ],
            "text/plain": [
              "<IPython.core.display.Latex object>"
            ]
          },
          "metadata": {},
          "output_type": "display_data"
        },
        {
          "data": {
            "text/plain": [
              "[0.70710678+0.j,0.70710678+0.j]"
            ]
          },
          "metadata": {},
          "output_type": "display_data"
        }
      ],
      "source": [
        "u = Statevector([1/sqrt(2), 1/sqrt(2)])\n",
        "display(u.draw(\"latex\"))                      #Displaying the State Vector in latex equation format\n",
        "display(u.draw(\"text\"))                       #Displaying it in vector format"
      ]
    },
    {
      "cell_type": "markdown",
      "metadata": {
        "id": "K5VZ33w9DJ2c"
      },
      "source": [
        "Even though the state of \"u\"  is in equal superposition of $|0\\rangle$ and $|1\\rangle$, it will RANDOMLY collapse into one of those states when measured.\n",
        "\n",
        "Use the `measure()` function to measure the statevector u."
      ]
    },
    {
      "cell_type": "code",
      "execution_count": null,
      "metadata": {
        "id": "4ltRdOWgDJ2c",
        "outputId": "37a6aac0-fe09-48a1-ab23-e41545784152"
      },
      "outputs": [
        {
          "data": {
            "text/plain": [
              "('0',\n",
              " Statevector([1.+0.j, 0.+0.j],\n",
              "             dims=(2,)))"
            ]
          },
          "execution_count": 4,
          "metadata": {},
          "output_type": "execute_result"
        }
      ],
      "source": [
        "u.measure()"
      ]
    },
    {
      "cell_type": "markdown",
      "metadata": {
        "id": "u9rW9LWGmmNJ"
      },
      "source": [
        "The StateVector u collapsed to [1,0], from [0.70710678+0.j,0.70710678+0.j]"
      ]
    },
    {
      "cell_type": "markdown",
      "metadata": {
        "id": "3wRVV7_eDJ2c"
      },
      "source": [
        "<h2>Every time you run, it collapses to different state</h2>\n",
        "\n",
        "That means, once you measure a quantum state the superposition is lost and the state drops down to one of the states. So to measure it again, the same state should be initiated and measured.\n",
        "\n",
        "The below code initiates and measures the same state 10 times to see how many times the state will collapse to 0 and 1."
      ]
    },
    {
      "cell_type": "code",
      "execution_count": null,
      "metadata": {
        "id": "YDLKMnyvDJ2c",
        "outputId": "7e20ebc9-723a-4170-faf2-ed8c94d2b1ce"
      },
      "outputs": [
        {
          "name": "stdout",
          "output_type": "stream",
          "text": [
            "('0', Statevector([1.+0.j, 0.+0.j],\n",
            "            dims=(2,)))\n",
            "('0', Statevector([1.+0.j, 0.+0.j],\n",
            "            dims=(2,)))\n",
            "('0', Statevector([1.+0.j, 0.+0.j],\n",
            "            dims=(2,)))\n",
            "('1', Statevector([0.+0.j, 1.+0.j],\n",
            "            dims=(2,)))\n",
            "('1', Statevector([0.+0.j, 1.+0.j],\n",
            "            dims=(2,)))\n",
            "('1', Statevector([0.+0.j, 1.+0.j],\n",
            "            dims=(2,)))\n",
            "('1', Statevector([0.+0.j, 1.+0.j],\n",
            "            dims=(2,)))\n",
            "('1', Statevector([0.+0.j, 1.+0.j],\n",
            "            dims=(2,)))\n",
            "('1', Statevector([0.+0.j, 1.+0.j],\n",
            "            dims=(2,)))\n",
            "('1', Statevector([0.+0.j, 1.+0.j],\n",
            "            dims=(2,)))\n"
          ]
        }
      ],
      "source": [
        "for i in range(10):\n",
        "    u = Statevector([1/sqrt(2), 1/sqrt(2)])\n",
        "    print(u.measure())"
      ]
    },
    {
      "cell_type": "markdown",
      "metadata": {
        "id": "ZS__hkEIDJ2c"
      },
      "source": [
        "<h2>Let's count no of 0's and 1's by measuring 1000 times</h2>"
      ]
    },
    {
      "cell_type": "code",
      "execution_count": null,
      "metadata": {
        "id": "vpMHDS2ADJ2c"
      },
      "outputs": [],
      "source": [
        "l=[]                                             # LIST L WILL STORE THE MEASUREMENT RESULT OF EACH RUN(EXPERIMENT/SHOT)\n",
        "\n",
        "for i in range(0,1000):\n",
        "    u = Statevector([1/sqrt(2), 1/sqrt(2)])\n",
        "    k=u.measure()\n",
        "    l.append(k[0])\n",
        "\n",
        "print(\"count of 0: \" + str(l.count('0')))\n",
        "print(\"count of 1: \" + str(l.count('1')))"
      ]
    },
    {
      "cell_type": "markdown",
      "metadata": {
        "id": "HEI6jp2NpLPF"
      },
      "source": [
        "The state collapsed to state $|0\\rangle$ and to state $|1\\rangle$ around 500 times each, with almost 50:50 probability."
      ]
    },
    {
      "cell_type": "markdown",
      "metadata": {
        "id": "Tpzln-OyDJ2c"
      },
      "source": [
        "<h2>Let's plot a histogram with number of counts on Y-axis and individual states on X-axis</h2>"
      ]
    },
    {
      "cell_type": "code",
      "execution_count": null,
      "metadata": {
        "id": "T7SowEqqDJ2c",
        "outputId": "d7ee9bab-d134-496c-878f-6d23ade56839"
      },
      "outputs": [
        {
          "data": {
            "text/plain": [
              "{'0': 515, '1': 485}"
            ]
          },
          "metadata": {},
          "output_type": "display_data"
        },
        {
          "data": {
            "image/png": "[encoded data removed]",
            "text/plain": [
              "<Figure size 640x480 with 1 Axes>"
            ]
          },
          "execution_count": 6,
          "metadata": {},
          "output_type": "execute_result"
        }
      ],
      "source": [
        "from qiskit.visualization import *\n",
        "\n",
        "counts = u.sample_counts(1000)            # sample_counts method does the same thing that the for loop above did - measure c times. Here c= 1000\n",
        "display(counts)\n",
        "plot_histogram(counts)                    # Plot_histogram is in qiskit.visualization"
      ]
    },
    {
      "cell_type": "markdown",
      "metadata": {
        "id": "-ImUGTjQDJ2c"
      },
      "source": [
        "<h1>Task 1</h1>"
      ]
    },
    {
      "cell_type": "markdown",
      "metadata": {
        "id": "bCwQsulEziAs"
      },
      "source": [
        "<h3>Welcome to your first task!!!!</h3>\n",
        "\n",
        "In the below task prepare your own quantum state and input the probability amplitudes to the x and y variables. Also input number of shots.\n",
        "\n",
        "Try to come up with a state other than $\\frac{1}{\\sqrt2} |0\\rangle + \\frac{1}{\\sqrt2}|1\\rangle$\n",
        "\n",
        "**Hint: Rule** 💡🤔"
      ]
    },
    {
      "cell_type": "code",
      "execution_count": null,
      "metadata": {
        "id": "o8Tb3B4ODJ2d"
      },
      "outputs": [],
      "source": [
        "from numpy import *\n",
        "from qiskit.quantum_info import Statevector\n",
        "from qiskit.visualization import plot_histogram\n",
        "# Try to create your own StateVector and see how the probabilities play out\n",
        "\n",
        "# FILL UP THE BELOW CODE AND RUN THE CELL\n",
        "\n",
        "x =                             # Input the probability amplitude of state |0>\n",
        "y =                             # Input the probability amplitude of state |1>\n",
        "shots=                          # Input No of Shots\n",
        "\n",
        "# DON'T CHANGE ANYTHING BELOW THIS POINT\n",
        "\n",
        "u = Statevector([x, y])\n",
        "display(u.draw(\"latex\"))                      #Displaying the State Vector in equation format\n",
        "display(u.draw(\"text\"))                       #Displaying it in vector format\n",
        "\n",
        "counts = u.sample_counts(shots)               # Getting sample counts for shots\n",
        "\n",
        "print(\"'0': \" + str(counts['0']) + \", '1': \" + str(counts['1']))\n",
        "plot_histogram(counts)"
      ]
    },
    {
      "cell_type": "markdown",
      "metadata": {
        "id": "shKW9mKA2mpS"
      },
      "source": [
        "Hurrahhhh!!!!🎉🎉🎉 Congratulations, you have successfully completed the first notebook in the series. Kudos!!!👏👏👏\n",
        "\n",
        "To learn how to control the nature go to the next notebook which explains how to transform the quantum state by performing operations."
      ]
    },
    {
      "cell_type": "markdown",
      "source": [
        "### Further Resources\n",
        "\n",
        "If you are interested in knowing more about what quantum computing is and what are some of it's applications and possible future impact, Click the below link and follow the course.\n",
        "\n",
        "[Quantum Business Foundations - IBM Learning Platform](https://learning.quantum.ibm.com/course/quantum-business-foundations) - **Get your badge**\n",
        "\n",
        "An in detail video series on basics of Quantum Information by Dr. John Watrous - [Basics of Quantum Information](https://learning.quantum.ibm.com/course/basics-of-quantum-information)\n",
        "\n",
        "Generalized formulations of Quantum Information by Dr. John Watrous - [General Formulation of Quantum Information](https://learning.quantum.ibm.com/course/general-formulation-of-quantum-information)\n",
        "\n"
      ],
      "metadata": {
        "id": "Xn5SN9WbxQa1"
      }
    },
    {
      "cell_type": "markdown",
      "metadata": {
        "id": "uFDQRR88WQE-"
      },
      "source": [
        "# END OF NOTEBOOK 1"
      ]
    }
  ],
  "metadata": {
    "colab": {
      "provenance": []
    },
    "kernelspec": {
      "display_name": "Python 3 (ipykernel)",
      "language": "python",
      "name": "python3"
    },
    "language_info": {
      "codemirror_mode": {
        "name": "ipython",
        "version": 3
      },
      "file_extension": ".py",
      "mimetype": "text/x-python",
      "name": "python",
      "nbconvert_exporter": "python",
      "pygments_lexer": "ipython3",
      "version": "3.12.2"
    }
  },
  "nbformat": 4,
  "nbformat_minor": 0
}